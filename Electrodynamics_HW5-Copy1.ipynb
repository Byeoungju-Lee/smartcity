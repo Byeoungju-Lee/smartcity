{
 "cells": [
  {
   "cell_type": "code",
   "execution_count": 1,
   "metadata": {},
   "outputs": [],
   "source": [
    "import numpy as np\n",
    "from sympy import I,Symbol, solve, Eq, Matrix"
   ]
  },
  {
   "cell_type": "code",
   "execution_count": 2,
   "metadata": {},
   "outputs": [],
   "source": [
    "w_0=Symbol('omega_0')\n",
    "w=Symbol('omega')\n",
    "omega=Symbol('Omega')\n",
    "N=Symbol('N')\n",
    "ep=Symbol('epsilon_0')\n",
    "m=Symbol('m')\n",
    "e=Symbol('e')\n",
    "j=I"
   ]
  },
  {
   "cell_type": "code",
   "execution_count": 4,
   "metadata": {},
   "outputs": [],
   "source": [
    "M=Matrix([[w_0**2 - w**2, -j*w*omega, 0],[j*w*omega, (w_0**2 - w**2), -j*w*omega],[0, j*w*omega, (w_0**2 - w**2) ]])"
   ]
  },
  {
   "cell_type": "code",
   "execution_count": 5,
   "metadata": {},
   "outputs": [
    {
     "data": {
      "text/latex": [
       "$\\displaystyle \\left[\\begin{matrix}- \\omega^{2} + \\omega_{0}^{2} & - i \\Omega \\omega & 0\\\\i \\Omega \\omega & - \\omega^{2} + \\omega_{0}^{2} & - i \\Omega \\omega\\\\0 & i \\Omega \\omega & - \\omega^{2} + \\omega_{0}^{2}\\end{matrix}\\right]$"
      ],
      "text/plain": [
       "Matrix([\n",
       "[-omega**2 + omega_0**2,         -I*Omega*omega,                      0],\n",
       "[         I*Omega*omega, -omega**2 + omega_0**2,         -I*Omega*omega],\n",
       "[                     0,          I*Omega*omega, -omega**2 + omega_0**2]])"
      ]
     },
     "execution_count": 5,
     "metadata": {},
     "output_type": "execute_result"
    }
   ],
   "source": [
    "M"
   ]
  },
  {
   "cell_type": "code",
   "execution_count": 6,
   "metadata": {
    "scrolled": true
   },
   "outputs": [
    {
     "data": {
      "text/latex": [
       "$\\displaystyle \\left[\\begin{matrix}\\frac{\\Omega^{4} \\omega^{4} \\left(- \\omega^{2} + \\omega_{0}^{2}\\right) + \\left(- \\omega^{2} + \\omega_{0}^{2}\\right)^{2} \\left(- \\Omega^{2} \\omega^{2} \\left(- \\omega^{2} + \\omega_{0}^{2}\\right) + \\left(- \\omega^{2} + \\omega_{0}^{2}\\right) \\left(- \\Omega^{2} \\omega^{2} + \\left(- \\omega^{2} + \\omega_{0}^{2}\\right)^{2}\\right)\\right)}{\\left(- \\omega^{2} + \\omega_{0}^{2}\\right) \\left(- \\Omega^{2} \\omega^{2} + \\left(- \\omega^{2} + \\omega_{0}^{2}\\right)^{2}\\right) \\left(- \\Omega^{2} \\omega^{2} \\left(- \\omega^{2} + \\omega_{0}^{2}\\right) + \\left(- \\omega^{2} + \\omega_{0}^{2}\\right) \\left(- \\Omega^{2} \\omega^{2} + \\left(- \\omega^{2} + \\omega_{0}^{2}\\right)^{2}\\right)\\right)} & \\frac{i \\Omega^{3} \\omega^{3} \\left(- \\omega^{2} + \\omega_{0}^{2}\\right)^{2} + i \\Omega \\omega \\left(- \\omega^{2} + \\omega_{0}^{2}\\right) \\left(- \\Omega^{2} \\omega^{2} \\left(- \\omega^{2} + \\omega_{0}^{2}\\right) + \\left(- \\omega^{2} + \\omega_{0}^{2}\\right) \\left(- \\Omega^{2} \\omega^{2} + \\left(- \\omega^{2} + \\omega_{0}^{2}\\right)^{2}\\right)\\right)}{\\left(- \\omega^{2} + \\omega_{0}^{2}\\right) \\left(- \\Omega^{2} \\omega^{2} + \\left(- \\omega^{2} + \\omega_{0}^{2}\\right)^{2}\\right) \\left(- \\Omega^{2} \\omega^{2} \\left(- \\omega^{2} + \\omega_{0}^{2}\\right) + \\left(- \\omega^{2} + \\omega_{0}^{2}\\right) \\left(- \\Omega^{2} \\omega^{2} + \\left(- \\omega^{2} + \\omega_{0}^{2}\\right)^{2}\\right)\\right)} & - \\frac{\\Omega^{2} \\omega^{2}}{- \\Omega^{2} \\omega^{2} \\left(- \\omega^{2} + \\omega_{0}^{2}\\right) + \\left(- \\omega^{2} + \\omega_{0}^{2}\\right) \\left(- \\Omega^{2} \\omega^{2} + \\left(- \\omega^{2} + \\omega_{0}^{2}\\right)^{2}\\right)}\\\\\\frac{- i \\Omega^{3} \\omega^{3} \\left(- \\omega^{2} + \\omega_{0}^{2}\\right) - i \\Omega \\omega \\left(- \\Omega^{2} \\omega^{2} \\left(- \\omega^{2} + \\omega_{0}^{2}\\right) + \\left(- \\omega^{2} + \\omega_{0}^{2}\\right) \\left(- \\Omega^{2} \\omega^{2} + \\left(- \\omega^{2} + \\omega_{0}^{2}\\right)^{2}\\right)\\right)}{\\left(- \\Omega^{2} \\omega^{2} + \\left(- \\omega^{2} + \\omega_{0}^{2}\\right)^{2}\\right) \\left(- \\Omega^{2} \\omega^{2} \\left(- \\omega^{2} + \\omega_{0}^{2}\\right) + \\left(- \\omega^{2} + \\omega_{0}^{2}\\right) \\left(- \\Omega^{2} \\omega^{2} + \\left(- \\omega^{2} + \\omega_{0}^{2}\\right)^{2}\\right)\\right)} & \\frac{\\Omega^{2} \\omega^{2} \\left(- \\omega^{2} + \\omega_{0}^{2}\\right)^{2} + \\left(- \\omega^{2} + \\omega_{0}^{2}\\right) \\left(- \\Omega^{2} \\omega^{2} \\left(- \\omega^{2} + \\omega_{0}^{2}\\right) + \\left(- \\omega^{2} + \\omega_{0}^{2}\\right) \\left(- \\Omega^{2} \\omega^{2} + \\left(- \\omega^{2} + \\omega_{0}^{2}\\right)^{2}\\right)\\right)}{\\left(- \\Omega^{2} \\omega^{2} + \\left(- \\omega^{2} + \\omega_{0}^{2}\\right)^{2}\\right) \\left(- \\Omega^{2} \\omega^{2} \\left(- \\omega^{2} + \\omega_{0}^{2}\\right) + \\left(- \\omega^{2} + \\omega_{0}^{2}\\right) \\left(- \\Omega^{2} \\omega^{2} + \\left(- \\omega^{2} + \\omega_{0}^{2}\\right)^{2}\\right)\\right)} & \\frac{i \\Omega \\omega \\left(- \\omega^{2} + \\omega_{0}^{2}\\right)}{- \\Omega^{2} \\omega^{2} \\left(- \\omega^{2} + \\omega_{0}^{2}\\right) + \\left(- \\omega^{2} + \\omega_{0}^{2}\\right) \\left(- \\Omega^{2} \\omega^{2} + \\left(- \\omega^{2} + \\omega_{0}^{2}\\right)^{2}\\right)}\\\\- \\frac{\\Omega^{2} \\omega^{2}}{- \\Omega^{2} \\omega^{2} \\left(- \\omega^{2} + \\omega_{0}^{2}\\right) + \\left(- \\omega^{2} + \\omega_{0}^{2}\\right) \\left(- \\Omega^{2} \\omega^{2} + \\left(- \\omega^{2} + \\omega_{0}^{2}\\right)^{2}\\right)} & - \\frac{i \\Omega \\omega \\left(- \\omega^{2} + \\omega_{0}^{2}\\right)}{- \\Omega^{2} \\omega^{2} \\left(- \\omega^{2} + \\omega_{0}^{2}\\right) + \\left(- \\omega^{2} + \\omega_{0}^{2}\\right) \\left(- \\Omega^{2} \\omega^{2} + \\left(- \\omega^{2} + \\omega_{0}^{2}\\right)^{2}\\right)} & \\frac{- \\Omega^{2} \\omega^{2} + \\left(- \\omega^{2} + \\omega_{0}^{2}\\right)^{2}}{- \\Omega^{2} \\omega^{2} \\left(- \\omega^{2} + \\omega_{0}^{2}\\right) + \\left(- \\omega^{2} + \\omega_{0}^{2}\\right) \\left(- \\Omega^{2} \\omega^{2} + \\left(- \\omega^{2} + \\omega_{0}^{2}\\right)^{2}\\right)}\\end{matrix}\\right]$"
      ],
      "text/plain": [
       "Matrix([\n",
       "[(Omega**4*omega**4*(-omega**2 + omega_0**2) + (-omega**2 + omega_0**2)**2*(-Omega**2*omega**2*(-omega**2 + omega_0**2) + (-omega**2 + omega_0**2)*(-Omega**2*omega**2 + (-omega**2 + omega_0**2)**2)))/((-omega**2 + omega_0**2)*(-Omega**2*omega**2 + (-omega**2 + omega_0**2)**2)*(-Omega**2*omega**2*(-omega**2 + omega_0**2) + (-omega**2 + omega_0**2)*(-Omega**2*omega**2 + (-omega**2 + omega_0**2)**2))), (I*Omega**3*omega**3*(-omega**2 + omega_0**2)**2 + I*Omega*omega*(-omega**2 + omega_0**2)*(-Omega**2*omega**2*(-omega**2 + omega_0**2) + (-omega**2 + omega_0**2)*(-Omega**2*omega**2 + (-omega**2 + omega_0**2)**2)))/((-omega**2 + omega_0**2)*(-Omega**2*omega**2 + (-omega**2 + omega_0**2)**2)*(-Omega**2*omega**2*(-omega**2 + omega_0**2) + (-omega**2 + omega_0**2)*(-Omega**2*omega**2 + (-omega**2 + omega_0**2)**2))),                                 -Omega**2*omega**2/(-Omega**2*omega**2*(-omega**2 + omega_0**2) + (-omega**2 + omega_0**2)*(-Omega**2*omega**2 + (-omega**2 + omega_0**2)**2))],\n",
       "[                                    (-I*Omega**3*omega**3*(-omega**2 + omega_0**2) - I*Omega*omega*(-Omega**2*omega**2*(-omega**2 + omega_0**2) + (-omega**2 + omega_0**2)*(-Omega**2*omega**2 + (-omega**2 + omega_0**2)**2)))/((-Omega**2*omega**2 + (-omega**2 + omega_0**2)**2)*(-Omega**2*omega**2*(-omega**2 + omega_0**2) + (-omega**2 + omega_0**2)*(-Omega**2*omega**2 + (-omega**2 + omega_0**2)**2))),                                          (Omega**2*omega**2*(-omega**2 + omega_0**2)**2 + (-omega**2 + omega_0**2)*(-Omega**2*omega**2*(-omega**2 + omega_0**2) + (-omega**2 + omega_0**2)*(-Omega**2*omega**2 + (-omega**2 + omega_0**2)**2)))/((-Omega**2*omega**2 + (-omega**2 + omega_0**2)**2)*(-Omega**2*omega**2*(-omega**2 + omega_0**2) + (-omega**2 + omega_0**2)*(-Omega**2*omega**2 + (-omega**2 + omega_0**2)**2))),             I*Omega*omega*(-omega**2 + omega_0**2)/(-Omega**2*omega**2*(-omega**2 + omega_0**2) + (-omega**2 + omega_0**2)*(-Omega**2*omega**2 + (-omega**2 + omega_0**2)**2))],\n",
       "[                                                                                                                                                                                                                                                                  -Omega**2*omega**2/(-Omega**2*omega**2*(-omega**2 + omega_0**2) + (-omega**2 + omega_0**2)*(-Omega**2*omega**2 + (-omega**2 + omega_0**2)**2)),                                                                                                                                                                                                                                                              -I*Omega*omega*(-omega**2 + omega_0**2)/(-Omega**2*omega**2*(-omega**2 + omega_0**2) + (-omega**2 + omega_0**2)*(-Omega**2*omega**2 + (-omega**2 + omega_0**2)**2)), (-Omega**2*omega**2 + (-omega**2 + omega_0**2)**2)/(-Omega**2*omega**2*(-omega**2 + omega_0**2) + (-omega**2 + omega_0**2)*(-Omega**2*omega**2 + (-omega**2 + omega_0**2)**2))]])"
      ]
     },
     "execution_count": 6,
     "metadata": {},
     "output_type": "execute_result"
    }
   ],
   "source": [
    "M.inv()"
   ]
  }
 ],
 "metadata": {
  "kernelspec": {
   "display_name": "Python 3",
   "language": "python",
   "name": "python3"
  },
  "language_info": {
   "codemirror_mode": {
    "name": "ipython",
    "version": 3
   },
   "file_extension": ".py",
   "mimetype": "text/x-python",
   "name": "python",
   "nbconvert_exporter": "python",
   "pygments_lexer": "ipython3",
   "version": "3.7.3"
  }
 },
 "nbformat": 4,
 "nbformat_minor": 2
}
