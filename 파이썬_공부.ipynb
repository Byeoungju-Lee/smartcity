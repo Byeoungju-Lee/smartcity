{
  "nbformat": 4,
  "nbformat_minor": 0,
  "metadata": {
    "colab": {
      "name": "파이썬 공부",
      "provenance": [],
      "include_colab_link": true
    },
    "kernelspec": {
      "name": "python3",
      "display_name": "Python 3"
    }
  },
  "cells": [
    {
      "cell_type": "markdown",
      "metadata": {
        "id": "view-in-github",
        "colab_type": "text"
      },
      "source": [
        "<a href=\"https://colab.research.google.com/github/Byeoungju-Lee/smartcity/blob/main/%ED%8C%8C%EC%9D%B4%EC%8D%AC_%EA%B3%B5%EB%B6%80.ipynb\" target=\"_parent\"><img src=\"https://colab.research.google.com/assets/colab-badge.svg\" alt=\"Open In Colab\"/></a>"
      ]
    },
    {
      "cell_type": "code",
      "metadata": {
        "id": "VJChdqsg0tbh"
      },
      "source": [
        ""
      ],
      "execution_count": null,
      "outputs": []
    },
    {
      "cell_type": "markdown",
      "metadata": {
        "id": "UfTT8-OSO2VQ"
      },
      "source": [
        "이제부터 파이썬 공부시작"
      ]
    },
    {
      "cell_type": "code",
      "metadata": {
        "id": "iGS7JazzO5-R"
      },
      "source": [
        "a = 10\n",
        "b = 15\n",
        "c = a + b"
      ],
      "execution_count": 2,
      "outputs": []
    },
    {
      "cell_type": "code",
      "metadata": {
        "id": "W0SlvZmaPNqV",
        "outputId": "d470b7fa-a2ab-4d04-c0ca-5013174a5359",
        "colab": {
          "base_uri": "https://localhost:8080/"
        }
      },
      "source": [
        "print(c)"
      ],
      "execution_count": 3,
      "outputs": [
        {
          "output_type": "stream",
          "text": [
            "25\n"
          ],
          "name": "stdout"
        }
      ]
    },
    {
      "cell_type": "code",
      "metadata": {
        "id": "dmlT58pcPX2F"
      },
      "source": [
        "name = 'keun rhee'"
      ],
      "execution_count": 4,
      "outputs": []
    },
    {
      "cell_type": "code",
      "metadata": {
        "id": "J_q5IhKxPmiv",
        "outputId": "1292aaf4-5f41-444e-8d95-b3f81cfdc922",
        "colab": {
          "base_uri": "https://localhost:8080/"
        }
      },
      "source": [
        "print(name.upper())"
      ],
      "execution_count": 6,
      "outputs": [
        {
          "output_type": "stream",
          "text": [
            "KEUN RHEE\n"
          ],
          "name": "stdout"
        }
      ]
    },
    {
      "cell_type": "code",
      "metadata": {
        "id": "Rfquo7DGPxSS"
      },
      "source": [
        "name = name.upper()"
      ],
      "execution_count": 7,
      "outputs": []
    },
    {
      "cell_type": "code",
      "metadata": {
        "id": "jF6tJCISP1pp",
        "outputId": "815ef139-7b5e-4920-c129-08b2e565600f",
        "colab": {
          "base_uri": "https://localhost:8080/"
        }
      },
      "source": [
        "print(name.lower())"
      ],
      "execution_count": 8,
      "outputs": [
        {
          "output_type": "stream",
          "text": [
            "keun rhee\n"
          ],
          "name": "stdout"
        }
      ]
    },
    {
      "cell_type": "markdown",
      "metadata": {
        "id": "i-dhwzy0P7DD"
      },
      "source": [
        " Boolean var"
      ]
    },
    {
      "cell_type": "code",
      "metadata": {
        "id": "-i1YeRdgP_Em",
        "outputId": "baa9dc08-1f9a-4325-9b30-eac98946fa16",
        "colab": {
          "base_uri": "https://localhost:8080/"
        }
      },
      "source": [
        "age = 30\n",
        "if age<65:\n",
        "   print('age is young')\n",
        "   print('ya!')\n",
        "elif age>10:\n",
        "   print('old!')\n",
        "else:\n",
        "   print('age is old')"
      ],
      "execution_count": 13,
      "outputs": [
        {
          "output_type": "stream",
          "text": [
            "age is young\n",
            "ya!\n"
          ],
          "name": "stdout"
        }
      ]
    },
    {
      "cell_type": "markdown",
      "metadata": {
        "id": "dTf2NaG2SbNS"
      },
      "source": [
        "List"
      ]
    },
    {
      "cell_type": "code",
      "metadata": {
        "id": "ddLIl7UvSco3"
      },
      "source": [
        "numbers = [10, 13, 20, 40]"
      ],
      "execution_count": 14,
      "outputs": []
    },
    {
      "cell_type": "markdown",
      "metadata": {
        "id": "H_WTDm10StAN"
      },
      "source": [
        "For loop & While loop"
      ]
    },
    {
      "cell_type": "code",
      "metadata": {
        "id": "m0Fvb95cSx8A",
        "outputId": "d735a98a-01f0-4976-ae3b-da5b0617d800",
        "colab": {
          "base_uri": "https://localhost:8080/",
          "height": 405
        }
      },
      "source": [
        "for i in numbers:\n",
        "    print(i)"
      ],
      "execution_count": 22,
      "outputs": [
        {
          "output_type": "stream",
          "text": [
            "10\n",
            "100\n",
            "13\n",
            "169\n",
            "20\n",
            "400\n",
            "40\n",
            "1600\n"
          ],
          "name": "stdout"
        },
        {
          "output_type": "error",
          "ename": "TypeError",
          "evalue": "ignored",
          "traceback": [
            "\u001b[0;31m---------------------------------------------------------------------------\u001b[0m",
            "\u001b[0;31mTypeError\u001b[0m                                 Traceback (most recent call last)",
            "\u001b[0;32m<ipython-input-22-bd6661c22b20>\u001b[0m in \u001b[0;36m<module>\u001b[0;34m()\u001b[0m\n\u001b[1;32m      4\u001b[0m     \u001b[0mprint\u001b[0m\u001b[0;34m(\u001b[0m\u001b[0mi\u001b[0m\u001b[0;34m**\u001b[0m\u001b[0;36m2\u001b[0m\u001b[0;34m)\u001b[0m\u001b[0;34m\u001b[0m\u001b[0;34m\u001b[0m\u001b[0m\n\u001b[1;32m      5\u001b[0m \u001b[0;34m\u001b[0m\u001b[0m\n\u001b[0;32m----> 6\u001b[0;31m \u001b[0mprint\u001b[0m\u001b[0;34m(\u001b[0m\u001b[0mnumbers\u001b[0m\u001b[0;34m[\u001b[0m\u001b[0;34m:\u001b[0m\u001b[0;34m]\u001b[0m\u001b[0;34m**\u001b[0m\u001b[0;36m2\u001b[0m\u001b[0;34m)\u001b[0m\u001b[0;34m\u001b[0m\u001b[0;34m\u001b[0m\u001b[0m\n\u001b[0m",
            "\u001b[0;31mTypeError\u001b[0m: unsupported operand type(s) for ** or pow(): 'list' and 'int'"
          ]
        }
      ]
    },
    {
      "cell_type": "code",
      "metadata": {
        "id": "G5q_RVIYTq4H",
        "outputId": "2c78890a-618e-4a04-8b56-5ca043e410ca",
        "colab": {
          "base_uri": "https://localhost:8080/"
        }
      },
      "source": [
        "i= int(input())\n",
        " \n",
        "if i>5:\n",
        "   print('A')\n",
        "elif i<5:\n",
        "   print('B')\n",
        "else:\n",
        "   print('C')"
      ],
      "execution_count": 24,
      "outputs": [
        {
          "output_type": "stream",
          "text": [
            "6\n",
            "A\n"
          ],
          "name": "stdout"
        }
      ]
    },
    {
      "cell_type": "code",
      "metadata": {
        "id": "7dJ_hGzrUqmA"
      },
      "source": [
        "def printVal(i):\n",
        "   if i>5:\n",
        "      print('A')\n",
        "   elif i<5:\n",
        "      print('B')\n",
        "   else:\n",
        "      print('C')"
      ],
      "execution_count": 26,
      "outputs": []
    },
    {
      "cell_type": "code",
      "metadata": {
        "id": "HMtuuh9wVMx-",
        "outputId": "00cae545-93a5-42c2-a492-dfcd9bcb1aec",
        "colab": {
          "base_uri": "https://localhost:8080/"
        }
      },
      "source": [
        "X = int(input())\n",
        "print(printVal(X))"
      ],
      "execution_count": 27,
      "outputs": [
        {
          "output_type": "stream",
          "text": [
            "5\n",
            "C\n",
            "None\n"
          ],
          "name": "stdout"
        }
      ]
    },
    {
      "cell_type": "code",
      "metadata": {
        "id": "T99uUtv0WeAP"
      },
      "source": [
        "def summation(numbers):\n",
        "   A=0\n",
        "   for i in numbers:\n",
        "      A=A+i\n",
        "   return A"
      ],
      "execution_count": 29,
      "outputs": []
    },
    {
      "cell_type": "code",
      "metadata": {
        "id": "qxHhnN2lXFhq",
        "outputId": "a8a7e024-b2db-4dd8-d13d-bc600bdad630",
        "colab": {
          "base_uri": "https://localhost:8080/"
        }
      },
      "source": [
        "numbers = [10, 20]\n",
        "print(summation(numbers))"
      ],
      "execution_count": 30,
      "outputs": [
        {
          "output_type": "stream",
          "text": [
            "30\n"
          ],
          "name": "stdout"
        }
      ]
    }
  ]
}